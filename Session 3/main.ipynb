{
 "cells": [
  {
   "cell_type": "markdown",
   "id": "0a01abb4",
   "metadata": {},
   "source": [
    "# import nessary library"
   ]
  },
  {
   "cell_type": "code",
   "execution_count": null,
   "id": "8633881f-8d23-4826-b4be-703884c195c9",
   "metadata": {},
   "outputs": [],
   "source": [
    "import cv2 \n",
    "import numpy as np \n",
    "from matplotlib.image import imread\n",
    "import matplotlib.pyplot as plt"
   ]
  },
  {
   "cell_type": "markdown",
   "id": "15a3d0e4",
   "metadata": {},
   "source": [
    "## create image using array "
   ]
  },
  {
   "cell_type": "code",
   "execution_count": null,
   "id": "973cd3b4-a3b4-4cd5-8fd0-0b27cbf897ae",
   "metadata": {},
   "outputs": [],
   "source": [
    "array_image = np.array([[(255, 0, 0 ),( 0 ,255, 0 ),( 0 , 0 ,255)]\n",
    "              ,[(200,70,200),(255,255,255),(250,50,205)]\n",
    "              ,[( 0 , 0 , 0 ),(200,150,50),(50,50 ,50)]])\n"
   ]
  },
  {
   "cell_type": "code",
   "execution_count": null,
   "id": "063d0703-962b-4676-87f8-01169f24e8e2",
   "metadata": {},
   "outputs": [],
   "source": [
    "plt.subplots(figsize=(10 , 5)) \n",
    "plt.title(\"RGB image\")\n",
    "plt.imshow(array_image)\n",
    "plt.show()"
   ]
  },
  {
   "cell_type": "markdown",
   "id": "a0a1f405",
   "metadata": {},
   "source": [
    "## Create function to convert from RGB to gray "
   ]
  },
  {
   "cell_type": "code",
   "execution_count": null,
   "id": "dd70c4d3-1156-492e-8177-188644d1b194",
   "metadata": {},
   "outputs": [],
   "source": [
    "def BGR2GRAY (image) :\n",
    "    RED_CANELS = image[...,0]\n",
    "    GREEN_CANELS = image[...,1]\n",
    "    BLUE_CANELS = image[...,2]\n",
    "    \n",
    "    gray_image = RED_CANELS*0.299 + GREEN_CANELS*0.587 + BLUE_CANELS * 0.114 \n",
    "    # print (f\"{RED_CANELS} \\n\\n {GREEN_CANELS} \\n\\n {BLUE_CANELS} \\n\\n\\n {gray_image}\" )\n",
    "    return gray_image "
   ]
  },
  {
   "cell_type": "markdown",
   "id": "1c1b7f02",
   "metadata": {},
   "source": [
    "### test our function "
   ]
  },
  {
   "cell_type": "code",
   "execution_count": null,
   "id": "f42e11e7-bf31-4d8c-ae0c-fee911dbd62e",
   "metadata": {},
   "outputs": [],
   "source": [
    "gray_image = BGR2GRAY(array_image)\n",
    "plt.imshow(gray_image , cmap=\"gray\")"
   ]
  },
  {
   "cell_type": "markdown",
   "id": "d4996eeb",
   "metadata": {},
   "source": [
    "### convert the same image using built_in function in cv2"
   ]
  },
  {
   "cell_type": "code",
   "execution_count": null,
   "id": "e4caa27c-a083-4c4f-9c4d-69c8a038eb9b",
   "metadata": {},
   "outputs": [],
   "source": [
    "array_image= array_image.astype(np.uint8)\n",
    "\n",
    "gray_image = cv2.cvtColor(array_image, cv2.COLOR_RGB2GRAY)"
   ]
  },
  {
   "cell_type": "code",
   "execution_count": null,
   "id": "82200707-9eae-4de0-a30b-7b8ee83cef47",
   "metadata": {},
   "outputs": [],
   "source": [
    "plt.imshow(gray_image , cmap = \"gray\")\n",
    "print(gray_image)"
   ]
  },
  {
   "cell_type": "code",
   "execution_count": null,
   "id": "63467266-7433-4f43-8e36-6bedef6e7a44",
   "metadata": {},
   "outputs": [],
   "source": [
    "image = imread(\"Images//balloons.jpg\")\n",
    "gray_image = BGR2GRAY(image) \n",
    "f , ( im1 , im2 ) = plt.subplots(1 , 2 , figsize = (20 , 10 ))\n",
    "im1.imshow(image)\n",
    "im2.imshow(gray_image , cmap = \"gray\")"
   ]
  },
  {
   "cell_type": "markdown",
   "id": "e3e048f0",
   "metadata": {},
   "source": [
    "## Create function to convert from RGB to BGR"
   ]
  },
  {
   "cell_type": "code",
   "execution_count": null,
   "id": "f00f43e6-7af8-4c5b-b2e1-f3cfabe3c23c",
   "metadata": {},
   "outputs": [],
   "source": [
    "def RGB2BGR(image_rgb):\n",
    "    image_bgr = []\n",
    "    for row in image_rgb:\n",
    "        bgr_row = []\n",
    "        for pixel in row:\n",
    "            bgr_pixel = [pixel[2], pixel[1], pixel[0]]\n",
    "            bgr_row.append(bgr_pixel)\n",
    "        image_bgr.append(bgr_row)\n",
    "\n",
    "    return image_bgr\n"
   ]
  },
  {
   "cell_type": "markdown",
   "id": "68474d90",
   "metadata": {},
   "source": [
    "### test our function "
   ]
  },
  {
   "cell_type": "code",
   "execution_count": null,
   "id": "f9e5664c-9ea6-4877-98c0-af1009f77e7b",
   "metadata": {},
   "outputs": [],
   "source": [
    "image_bgr = RGB2BGR(image)\n",
    "f , ( im1 , im2 ) = plt.subplots(1 , 2 , figsize = (20 , 10 ))\n",
    "im1.imshow(image)\n",
    "im2.imshow(image_bgr)"
   ]
  },
  {
   "cell_type": "code",
   "execution_count": null,
   "id": "c233fcea-e687-4eb8-bb13-85000227e82f",
   "metadata": {},
   "outputs": [],
   "source": [
    "image_bgr_cv = cv2.cvtColor(image ,cv2.COLOR_RGB2BGR)\n",
    "f , ( im1 , im2 ) = plt.subplots(1 , 2 , figsize = (20 , 10 ))\n",
    "im1.imshow(image)\n",
    "im2.imshow(image_bgr)"
   ]
  },
  {
   "cell_type": "markdown",
   "id": "605d0864",
   "metadata": {},
   "source": [
    "# Arithmetic Operation on image"
   ]
  },
  {
   "cell_type": "code",
   "execution_count": null,
   "id": "db8efcb3-b2be-496b-ab9f-7c1d1991bc39",
   "metadata": {},
   "outputs": [],
   "source": [
    "boat = cv2.imread(\"Images/boat.jpg\")\n",
    "Red = cv2.imread(\"Images/RED.png\")"
   ]
  },
  {
   "cell_type": "code",
   "execution_count": null,
   "id": "02a62592-9a1f-4d13-a0ad-996d46dff607",
   "metadata": {},
   "outputs": [],
   "source": [
    "cv2.imshow(\"Frame\" , Red)\n",
    "cv2.imshow(\"Frame2\" , boat)\n",
    "\n",
    "Rred = cv2.resize(Red , (720 , 600))\n",
    "Rboat = cv2.resize(boat , (720 , 600))\n",
    "cv2.waitKey(0)\n",
    "cv2.imshow(\"Frame\" , Rred)\n",
    "cv2.imshow(\"Frame2\" , Rboat)\n",
    "if cv2.waitKey(0) :\n",
    "    cv2.destroyAllWindows()"
   ]
  },
  {
   "cell_type": "code",
   "execution_count": null,
   "id": "86b8caaa-c22c-42a6-802f-86c098ccb99b",
   "metadata": {},
   "outputs": [],
   "source": [
    "add = cv2.add(Rboat , Rred) \n",
    "sub = cv2.subtract(Rboat ,Rred )\n",
    "Mul = cv2.multiply(Rboat ,Rred)\n",
    "div = cv2.divide(Rboat ,Rred)\n",
    "\n",
    "Rboat = cv2.cvtColor(Rboat ,cv2.COLOR_BGR2RGB)\n",
    "Rred = cv2.cvtColor(Rred ,cv2.COLOR_BGR2RGB)\n",
    "add = cv2.cvtColor(add ,cv2.COLOR_BGR2RGB)\n",
    "sub = cv2.cvtColor(sub ,cv2.COLOR_BGR2RGB)\n",
    "Mul = cv2.cvtColor(Mul ,cv2.COLOR_BGR2RGB)\n",
    "div = cv2.cvtColor(div ,cv2.COLOR_BGR2RGB)\n",
    "\n",
    "\n",
    "f, ((im1, im2, im3), (im4, im5, im6)) = plt.subplots(2, 3, figsize=(20, 10))\n",
    "\n",
    "im1.imshow(Rboat)\n",
    "im1.set_title('Rboat')\n",
    "\n",
    "im2.imshow(add)\n",
    "im2.set_title('add')\n",
    "\n",
    "im3.imshow(sub)\n",
    "im3.set_title('sub')\n",
    "\n",
    "im4.imshow(Mul)\n",
    "im4.set_title('Mul')\n",
    "\n",
    "im5.imshow(div)\n",
    "im5.set_title('div')\n",
    "\n",
    "im6.imshow(Rred)\n",
    "im6.set_title('Rred')\n",
    "\n",
    "plt.show()"
   ]
  },
  {
   "cell_type": "markdown",
   "id": "be334405",
   "metadata": {},
   "source": [
    "# bitwise operation on image "
   ]
  },
  {
   "cell_type": "code",
   "execution_count": null,
   "id": "42c09b0d-db7e-4e29-89dd-eea967dad489",
   "metadata": {},
   "outputs": [],
   "source": [
    "Black_White1 = cv2.imread(\"Images/Black_White.png\")\n",
    "Black_White2 = cv2.imread(\"Images/Black_White2.png\")"
   ]
  },
  {
   "cell_type": "code",
   "execution_count": null,
   "id": "13f2bb52-f6ba-470b-94d1-5a9ad8146a92",
   "metadata": {},
   "outputs": [],
   "source": [
    "and_Image = cv2.bitwise_and(Black_White1 , Black_White2)\n",
    "or_Image  = cv2.bitwise_or(Black_White1 , Black_White2)\n",
    "not_image = cv2.bitwise_not(Black_White1)\n",
    "xor_image = cv2.bitwise_xor(Black_White1 , Black_White2)"
   ]
  },
  {
   "cell_type": "code",
   "execution_count": null,
   "id": "faf12343-5ab4-4b12-af9f-f866e26fef70",
   "metadata": {},
   "outputs": [],
   "source": [
    "f, ((im1, im2, im3), (im4, im5, im6)) = plt.subplots(2, 3, figsize=(20, 10))\n",
    "\n",
    "im1.imshow(Black_White1)\n",
    "im1.set_title('Black_White1')\n",
    "\n",
    "im2.imshow(Black_White2)\n",
    "im2.set_title('Black_White2')\n",
    "\n",
    "im3.imshow(and_Image)\n",
    "im3.set_title('and_Image')\n",
    "\n",
    "im4.imshow(or_Image)\n",
    "im4.set_title('or_Image')\n",
    "\n",
    "im5.imshow(not_image)\n",
    "im5.set_title('not_image')\n",
    "\n",
    "im6.imshow(xor_image)\n",
    "im6.set_title('xor_image')\n",
    "\n",
    "plt.show()\n"
   ]
  }
 ],
 "metadata": {
  "kernelspec": {
   "display_name": "Python 3 (ipykernel)",
   "language": "python",
   "name": "python3"
  },
  "language_info": {
   "codemirror_mode": {
    "name": "ipython",
    "version": 3
   },
   "file_extension": ".py",
   "mimetype": "text/x-python",
   "name": "python",
   "nbconvert_exporter": "python",
   "pygments_lexer": "ipython3",
   "version": "3.11.3"
  }
 },
 "nbformat": 4,
 "nbformat_minor": 5
}
